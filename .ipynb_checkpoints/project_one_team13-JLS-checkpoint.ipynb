{
 "cells": [
  {
   "cell_type": "code",
   "execution_count": 1,
   "metadata": {
    "scrolled": false
   },
   "outputs": [
    {
     "data": {
      "text/html": [
       "<div>\n",
       "<style scoped>\n",
       "    .dataframe tbody tr th:only-of-type {\n",
       "        vertical-align: middle;\n",
       "    }\n",
       "\n",
       "    .dataframe tbody tr th {\n",
       "        vertical-align: top;\n",
       "    }\n",
       "\n",
       "    .dataframe thead th {\n",
       "        text-align: right;\n",
       "    }\n",
       "</style>\n",
       "<table border=\"1\" class=\"dataframe\">\n",
       "  <thead>\n",
       "    <tr style=\"text-align: right;\">\n",
       "      <th></th>\n",
       "      <th>round</th>\n",
       "      <th>value</th>\n",
       "      <th>daily_double</th>\n",
       "      <th>category</th>\n",
       "      <th>comments</th>\n",
       "      <th>answer</th>\n",
       "      <th>question</th>\n",
       "      <th>air_date</th>\n",
       "      <th>notes</th>\n",
       "    </tr>\n",
       "  </thead>\n",
       "  <tbody>\n",
       "    <tr>\n",
       "      <th>0</th>\n",
       "      <td>1</td>\n",
       "      <td>100</td>\n",
       "      <td>no</td>\n",
       "      <td>LAKES &amp; RIVERS</td>\n",
       "      <td>-</td>\n",
       "      <td>River mentioned most often in the Bible</td>\n",
       "      <td>the Jordan</td>\n",
       "      <td>1984-09-10</td>\n",
       "      <td>-</td>\n",
       "    </tr>\n",
       "    <tr>\n",
       "      <th>1</th>\n",
       "      <td>1</td>\n",
       "      <td>200</td>\n",
       "      <td>no</td>\n",
       "      <td>LAKES &amp; RIVERS</td>\n",
       "      <td>-</td>\n",
       "      <td>Scottish word for lake</td>\n",
       "      <td>loch</td>\n",
       "      <td>1984-09-10</td>\n",
       "      <td>-</td>\n",
       "    </tr>\n",
       "    <tr>\n",
       "      <th>2</th>\n",
       "      <td>1</td>\n",
       "      <td>400</td>\n",
       "      <td>no</td>\n",
       "      <td>LAKES &amp; RIVERS</td>\n",
       "      <td>-</td>\n",
       "      <td>American river only 33 miles shorter than the ...</td>\n",
       "      <td>the Missouri</td>\n",
       "      <td>1984-09-10</td>\n",
       "      <td>-</td>\n",
       "    </tr>\n",
       "    <tr>\n",
       "      <th>3</th>\n",
       "      <td>1</td>\n",
       "      <td>500</td>\n",
       "      <td>no</td>\n",
       "      <td>LAKES &amp; RIVERS</td>\n",
       "      <td>-</td>\n",
       "      <td>World's largest lake, nearly 5 times as big as...</td>\n",
       "      <td>the Caspian Sea</td>\n",
       "      <td>1984-09-10</td>\n",
       "      <td>-</td>\n",
       "    </tr>\n",
       "    <tr>\n",
       "      <th>4</th>\n",
       "      <td>1</td>\n",
       "      <td>100</td>\n",
       "      <td>no</td>\n",
       "      <td>INVENTIONS</td>\n",
       "      <td>-</td>\n",
       "      <td>Marconi's wonderful wireless</td>\n",
       "      <td>the radio</td>\n",
       "      <td>1984-09-10</td>\n",
       "      <td>-</td>\n",
       "    </tr>\n",
       "    <tr>\n",
       "      <th>...</th>\n",
       "      <td>...</td>\n",
       "      <td>...</td>\n",
       "      <td>...</td>\n",
       "      <td>...</td>\n",
       "      <td>...</td>\n",
       "      <td>...</td>\n",
       "      <td>...</td>\n",
       "      <td>...</td>\n",
       "      <td>...</td>\n",
       "    </tr>\n",
       "    <tr>\n",
       "      <th>349636</th>\n",
       "      <td>2</td>\n",
       "      <td>400</td>\n",
       "      <td>no</td>\n",
       "      <td>MAKE IT SNAPPY</td>\n",
       "      <td>-</td>\n",
       "      <td>As well as photosharing on this app, you can w...</td>\n",
       "      <td>Snapchat</td>\n",
       "      <td>2019-07-26</td>\n",
       "      <td>-</td>\n",
       "    </tr>\n",
       "    <tr>\n",
       "      <th>349637</th>\n",
       "      <td>2</td>\n",
       "      <td>800</td>\n",
       "      <td>no</td>\n",
       "      <td>MAKE IT SNAPPY</td>\n",
       "      <td>-</td>\n",
       "      <td>Genus Antirrhinum, these flowers snap closed a...</td>\n",
       "      <td>snapdragons</td>\n",
       "      <td>2019-07-26</td>\n",
       "      <td>-</td>\n",
       "    </tr>\n",
       "    <tr>\n",
       "      <th>349638</th>\n",
       "      <td>2</td>\n",
       "      <td>1600</td>\n",
       "      <td>no</td>\n",
       "      <td>MAKE IT SNAPPY</td>\n",
       "      <td>-</td>\n",
       "      <td>This hyphenated tool company owns brands like ...</td>\n",
       "      <td>Snap-On</td>\n",
       "      <td>2019-07-26</td>\n",
       "      <td>-</td>\n",
       "    </tr>\n",
       "    <tr>\n",
       "      <th>349639</th>\n",
       "      <td>2</td>\n",
       "      <td>2000</td>\n",
       "      <td>no</td>\n",
       "      <td>MAKE IT SNAPPY</td>\n",
       "      <td>-</td>\n",
       "      <td>In 2019 meteorologist Daryl Ritchison at NDSU,...</td>\n",
       "      <td>North Dakota State University</td>\n",
       "      <td>2019-07-26</td>\n",
       "      <td>-</td>\n",
       "    </tr>\n",
       "    <tr>\n",
       "      <th>349640</th>\n",
       "      <td>3</td>\n",
       "      <td>0</td>\n",
       "      <td>no</td>\n",
       "      <td>HISTORIC SHIPS</td>\n",
       "      <td>-</td>\n",
       "      <td>215 passengers were rescued when it sank in Ju...</td>\n",
       "      <td>the Carpathia</td>\n",
       "      <td>2019-07-26</td>\n",
       "      <td>-</td>\n",
       "    </tr>\n",
       "  </tbody>\n",
       "</table>\n",
       "<p>349641 rows × 9 columns</p>\n",
       "</div>"
      ],
      "text/plain": [
       "        round  value daily_double        category comments  \\\n",
       "0           1    100           no  LAKES & RIVERS        -   \n",
       "1           1    200           no  LAKES & RIVERS        -   \n",
       "2           1    400           no  LAKES & RIVERS        -   \n",
       "3           1    500           no  LAKES & RIVERS        -   \n",
       "4           1    100           no      INVENTIONS        -   \n",
       "...       ...    ...          ...             ...      ...   \n",
       "349636      2    400           no  MAKE IT SNAPPY        -   \n",
       "349637      2    800           no  MAKE IT SNAPPY        -   \n",
       "349638      2   1600           no  MAKE IT SNAPPY        -   \n",
       "349639      2   2000           no  MAKE IT SNAPPY        -   \n",
       "349640      3      0           no  HISTORIC SHIPS        -   \n",
       "\n",
       "                                                   answer  \\\n",
       "0                 River mentioned most often in the Bible   \n",
       "1                                  Scottish word for lake   \n",
       "2       American river only 33 miles shorter than the ...   \n",
       "3       World's largest lake, nearly 5 times as big as...   \n",
       "4                            Marconi's wonderful wireless   \n",
       "...                                                   ...   \n",
       "349636  As well as photosharing on this app, you can w...   \n",
       "349637  Genus Antirrhinum, these flowers snap closed a...   \n",
       "349638  This hyphenated tool company owns brands like ...   \n",
       "349639  In 2019 meteorologist Daryl Ritchison at NDSU,...   \n",
       "349640  215 passengers were rescued when it sank in Ju...   \n",
       "\n",
       "                             question    air_date notes  \n",
       "0                          the Jordan  1984-09-10     -  \n",
       "1                                loch  1984-09-10     -  \n",
       "2                        the Missouri  1984-09-10     -  \n",
       "3                     the Caspian Sea  1984-09-10     -  \n",
       "4                           the radio  1984-09-10     -  \n",
       "...                               ...         ...   ...  \n",
       "349636                       Snapchat  2019-07-26     -  \n",
       "349637                    snapdragons  2019-07-26     -  \n",
       "349638                        Snap-On  2019-07-26     -  \n",
       "349639  North Dakota State University  2019-07-26     -  \n",
       "349640                  the Carpathia  2019-07-26     -  \n",
       "\n",
       "[349641 rows x 9 columns]"
      ]
     },
     "execution_count": 1,
     "metadata": {},
     "output_type": "execute_result"
    }
   ],
   "source": [
    "import matplotlib.pyplot as plt\n",
    "import pandas as pd\n",
    "import numpy as np\n",
    "import scipy.stats as st\n",
    "\n",
    "# Read the data files\n",
    "jeopardy= pd.read_csv('master_season1-35.tsv', sep='\\t')\n",
    "jeopardy\n",
    "\n"
   ]
  },
  {
   "cell_type": "markdown",
   "metadata": {},
   "source": [
    "I used the following script to find the top 5 questions, or in other words to find the most frequent questions\n"
   ]
  },
  {
   "cell_type": "code",
   "execution_count": 2,
   "metadata": {
    "scrolled": false
   },
   "outputs": [
    {
     "data": {
      "text/plain": [
       "Australia    327\n",
       "China        322\n",
       "France       310\n",
       "Japan        308\n",
       "Chicago      306\n",
       "Name: question, dtype: int64"
      ]
     },
     "execution_count": 2,
     "metadata": {},
     "output_type": "execute_result"
    }
   ],
   "source": [
    "jeopardy['question'].value_counts().head(5)"
   ]
  },
  {
   "cell_type": "markdown",
   "metadata": {},
   "source": [
    "I cleaned the data to ensure I only had data from rounds 1, 2, and 3\n"
   ]
  },
  {
   "cell_type": "code",
   "execution_count": 3,
   "metadata": {
    "scrolled": false
   },
   "outputs": [
    {
     "data": {
      "text/html": [
       "<div>\n",
       "<style scoped>\n",
       "    .dataframe tbody tr th:only-of-type {\n",
       "        vertical-align: middle;\n",
       "    }\n",
       "\n",
       "    .dataframe tbody tr th {\n",
       "        vertical-align: top;\n",
       "    }\n",
       "\n",
       "    .dataframe thead th {\n",
       "        text-align: right;\n",
       "    }\n",
       "</style>\n",
       "<table border=\"1\" class=\"dataframe\">\n",
       "  <thead>\n",
       "    <tr style=\"text-align: right;\">\n",
       "      <th></th>\n",
       "      <th>round</th>\n",
       "      <th>value</th>\n",
       "      <th>daily_double</th>\n",
       "      <th>category</th>\n",
       "      <th>comments</th>\n",
       "      <th>answer</th>\n",
       "      <th>question</th>\n",
       "      <th>air_date</th>\n",
       "      <th>notes</th>\n",
       "    </tr>\n",
       "  </thead>\n",
       "  <tbody>\n",
       "    <tr>\n",
       "      <th>0</th>\n",
       "      <td>1</td>\n",
       "      <td>100</td>\n",
       "      <td>no</td>\n",
       "      <td>LAKES &amp; RIVERS</td>\n",
       "      <td>-</td>\n",
       "      <td>River mentioned most often in the Bible</td>\n",
       "      <td>the Jordan</td>\n",
       "      <td>1984-09-10</td>\n",
       "      <td>-</td>\n",
       "    </tr>\n",
       "    <tr>\n",
       "      <th>1</th>\n",
       "      <td>1</td>\n",
       "      <td>200</td>\n",
       "      <td>no</td>\n",
       "      <td>LAKES &amp; RIVERS</td>\n",
       "      <td>-</td>\n",
       "      <td>Scottish word for lake</td>\n",
       "      <td>loch</td>\n",
       "      <td>1984-09-10</td>\n",
       "      <td>-</td>\n",
       "    </tr>\n",
       "    <tr>\n",
       "      <th>2</th>\n",
       "      <td>1</td>\n",
       "      <td>400</td>\n",
       "      <td>no</td>\n",
       "      <td>LAKES &amp; RIVERS</td>\n",
       "      <td>-</td>\n",
       "      <td>American river only 33 miles shorter than the ...</td>\n",
       "      <td>the Missouri</td>\n",
       "      <td>1984-09-10</td>\n",
       "      <td>-</td>\n",
       "    </tr>\n",
       "    <tr>\n",
       "      <th>3</th>\n",
       "      <td>1</td>\n",
       "      <td>500</td>\n",
       "      <td>no</td>\n",
       "      <td>LAKES &amp; RIVERS</td>\n",
       "      <td>-</td>\n",
       "      <td>World's largest lake, nearly 5 times as big as...</td>\n",
       "      <td>the Caspian Sea</td>\n",
       "      <td>1984-09-10</td>\n",
       "      <td>-</td>\n",
       "    </tr>\n",
       "    <tr>\n",
       "      <th>4</th>\n",
       "      <td>1</td>\n",
       "      <td>100</td>\n",
       "      <td>no</td>\n",
       "      <td>INVENTIONS</td>\n",
       "      <td>-</td>\n",
       "      <td>Marconi's wonderful wireless</td>\n",
       "      <td>the radio</td>\n",
       "      <td>1984-09-10</td>\n",
       "      <td>-</td>\n",
       "    </tr>\n",
       "    <tr>\n",
       "      <th>...</th>\n",
       "      <td>...</td>\n",
       "      <td>...</td>\n",
       "      <td>...</td>\n",
       "      <td>...</td>\n",
       "      <td>...</td>\n",
       "      <td>...</td>\n",
       "      <td>...</td>\n",
       "      <td>...</td>\n",
       "      <td>...</td>\n",
       "    </tr>\n",
       "    <tr>\n",
       "      <th>349636</th>\n",
       "      <td>2</td>\n",
       "      <td>400</td>\n",
       "      <td>no</td>\n",
       "      <td>MAKE IT SNAPPY</td>\n",
       "      <td>-</td>\n",
       "      <td>As well as photosharing on this app, you can w...</td>\n",
       "      <td>Snapchat</td>\n",
       "      <td>2019-07-26</td>\n",
       "      <td>-</td>\n",
       "    </tr>\n",
       "    <tr>\n",
       "      <th>349637</th>\n",
       "      <td>2</td>\n",
       "      <td>800</td>\n",
       "      <td>no</td>\n",
       "      <td>MAKE IT SNAPPY</td>\n",
       "      <td>-</td>\n",
       "      <td>Genus Antirrhinum, these flowers snap closed a...</td>\n",
       "      <td>snapdragons</td>\n",
       "      <td>2019-07-26</td>\n",
       "      <td>-</td>\n",
       "    </tr>\n",
       "    <tr>\n",
       "      <th>349638</th>\n",
       "      <td>2</td>\n",
       "      <td>1600</td>\n",
       "      <td>no</td>\n",
       "      <td>MAKE IT SNAPPY</td>\n",
       "      <td>-</td>\n",
       "      <td>This hyphenated tool company owns brands like ...</td>\n",
       "      <td>Snap-On</td>\n",
       "      <td>2019-07-26</td>\n",
       "      <td>-</td>\n",
       "    </tr>\n",
       "    <tr>\n",
       "      <th>349639</th>\n",
       "      <td>2</td>\n",
       "      <td>2000</td>\n",
       "      <td>no</td>\n",
       "      <td>MAKE IT SNAPPY</td>\n",
       "      <td>-</td>\n",
       "      <td>In 2019 meteorologist Daryl Ritchison at NDSU,...</td>\n",
       "      <td>North Dakota State University</td>\n",
       "      <td>2019-07-26</td>\n",
       "      <td>-</td>\n",
       "    </tr>\n",
       "    <tr>\n",
       "      <th>349640</th>\n",
       "      <td>3</td>\n",
       "      <td>0</td>\n",
       "      <td>no</td>\n",
       "      <td>HISTORIC SHIPS</td>\n",
       "      <td>-</td>\n",
       "      <td>215 passengers were rescued when it sank in Ju...</td>\n",
       "      <td>the Carpathia</td>\n",
       "      <td>2019-07-26</td>\n",
       "      <td>-</td>\n",
       "    </tr>\n",
       "  </tbody>\n",
       "</table>\n",
       "<p>349641 rows × 9 columns</p>\n",
       "</div>"
      ],
      "text/plain": [
       "        round  value daily_double        category comments  \\\n",
       "0           1    100           no  LAKES & RIVERS        -   \n",
       "1           1    200           no  LAKES & RIVERS        -   \n",
       "2           1    400           no  LAKES & RIVERS        -   \n",
       "3           1    500           no  LAKES & RIVERS        -   \n",
       "4           1    100           no      INVENTIONS        -   \n",
       "...       ...    ...          ...             ...      ...   \n",
       "349636      2    400           no  MAKE IT SNAPPY        -   \n",
       "349637      2    800           no  MAKE IT SNAPPY        -   \n",
       "349638      2   1600           no  MAKE IT SNAPPY        -   \n",
       "349639      2   2000           no  MAKE IT SNAPPY        -   \n",
       "349640      3      0           no  HISTORIC SHIPS        -   \n",
       "\n",
       "                                                   answer  \\\n",
       "0                 River mentioned most often in the Bible   \n",
       "1                                  Scottish word for lake   \n",
       "2       American river only 33 miles shorter than the ...   \n",
       "3       World's largest lake, nearly 5 times as big as...   \n",
       "4                            Marconi's wonderful wireless   \n",
       "...                                                   ...   \n",
       "349636  As well as photosharing on this app, you can w...   \n",
       "349637  Genus Antirrhinum, these flowers snap closed a...   \n",
       "349638  This hyphenated tool company owns brands like ...   \n",
       "349639  In 2019 meteorologist Daryl Ritchison at NDSU,...   \n",
       "349640  215 passengers were rescued when it sank in Ju...   \n",
       "\n",
       "                             question    air_date notes  \n",
       "0                          the Jordan  1984-09-10     -  \n",
       "1                                loch  1984-09-10     -  \n",
       "2                        the Missouri  1984-09-10     -  \n",
       "3                     the Caspian Sea  1984-09-10     -  \n",
       "4                           the radio  1984-09-10     -  \n",
       "...                               ...         ...   ...  \n",
       "349636                       Snapchat  2019-07-26     -  \n",
       "349637                    snapdragons  2019-07-26     -  \n",
       "349638                        Snap-On  2019-07-26     -  \n",
       "349639  North Dakota State University  2019-07-26     -  \n",
       "349640                  the Carpathia  2019-07-26     -  \n",
       "\n",
       "[349641 rows x 9 columns]"
      ]
     },
     "execution_count": 3,
     "metadata": {},
     "output_type": "execute_result"
    }
   ],
   "source": [
    "clean_data = jeopardy.loc[(jeopardy[\"round\"] == 1) | (jeopardy[\"round\"] == 2)| (jeopardy[\"round\"] == 3)]\n",
    "clean_data"
   ]
  },
  {
   "cell_type": "markdown",
   "metadata": {},
   "source": [
    "I then cleaned the data further to only have the top five questions data. "
   ]
  },
  {
   "cell_type": "code",
   "execution_count": 4,
   "metadata": {
    "scrolled": true
   },
   "outputs": [
    {
     "data": {
      "text/html": [
       "<div>\n",
       "<style scoped>\n",
       "    .dataframe tbody tr th:only-of-type {\n",
       "        vertical-align: middle;\n",
       "    }\n",
       "\n",
       "    .dataframe tbody tr th {\n",
       "        vertical-align: top;\n",
       "    }\n",
       "\n",
       "    .dataframe thead th {\n",
       "        text-align: right;\n",
       "    }\n",
       "</style>\n",
       "<table border=\"1\" class=\"dataframe\">\n",
       "  <thead>\n",
       "    <tr style=\"text-align: right;\">\n",
       "      <th></th>\n",
       "      <th>round</th>\n",
       "      <th>value</th>\n",
       "      <th>daily_double</th>\n",
       "      <th>category</th>\n",
       "      <th>comments</th>\n",
       "      <th>answer</th>\n",
       "      <th>question</th>\n",
       "      <th>air_date</th>\n",
       "      <th>notes</th>\n",
       "    </tr>\n",
       "  </thead>\n",
       "  <tbody>\n",
       "    <tr>\n",
       "      <th>149</th>\n",
       "      <td>1</td>\n",
       "      <td>400</td>\n",
       "      <td>no</td>\n",
       "      <td>GEOGRAPHY</td>\n",
       "      <td>-</td>\n",
       "      <td>Largest country entirely in Europe</td>\n",
       "      <td>France</td>\n",
       "      <td>1984-09-13</td>\n",
       "      <td>-</td>\n",
       "    </tr>\n",
       "    <tr>\n",
       "      <th>489</th>\n",
       "      <td>2</td>\n",
       "      <td>400</td>\n",
       "      <td>no</td>\n",
       "      <td>INVENTIONS</td>\n",
       "      <td>-</td>\n",
       "      <td>Country credited with invention of pasta, porc...</td>\n",
       "      <td>China</td>\n",
       "      <td>1984-09-26</td>\n",
       "      <td>-</td>\n",
       "    </tr>\n",
       "    <tr>\n",
       "      <th>645</th>\n",
       "      <td>2</td>\n",
       "      <td>200</td>\n",
       "      <td>no</td>\n",
       "      <td>WORLD WAR I</td>\n",
       "      <td>-</td>\n",
       "      <td>\\\"Lafayette, we are here\", referred to America...</td>\n",
       "      <td>France</td>\n",
       "      <td>1984-10-01</td>\n",
       "      <td>-</td>\n",
       "    </tr>\n",
       "    <tr>\n",
       "      <th>937</th>\n",
       "      <td>3</td>\n",
       "      <td>0</td>\n",
       "      <td>no</td>\n",
       "      <td>BUSINESS &amp; INDUSTRY</td>\n",
       "      <td>-</td>\n",
       "      <td>Country that manufactures the most cars per year</td>\n",
       "      <td>Japan</td>\n",
       "      <td>1984-11-26</td>\n",
       "      <td>-</td>\n",
       "    </tr>\n",
       "    <tr>\n",
       "      <th>1823</th>\n",
       "      <td>1</td>\n",
       "      <td>100</td>\n",
       "      <td>no</td>\n",
       "      <td>THE '50s</td>\n",
       "      <td>-</td>\n",
       "      <td>\\\"Rashomon,\" Best Foreign Film of '51, was fro...</td>\n",
       "      <td>Japan</td>\n",
       "      <td>1985-03-20</td>\n",
       "      <td>-</td>\n",
       "    </tr>\n",
       "    <tr>\n",
       "      <th>...</th>\n",
       "      <td>...</td>\n",
       "      <td>...</td>\n",
       "      <td>...</td>\n",
       "      <td>...</td>\n",
       "      <td>...</td>\n",
       "      <td>...</td>\n",
       "      <td>...</td>\n",
       "      <td>...</td>\n",
       "      <td>...</td>\n",
       "    </tr>\n",
       "    <tr>\n",
       "      <th>347490</th>\n",
       "      <td>1</td>\n",
       "      <td>400</td>\n",
       "      <td>no</td>\n",
       "      <td>NIXON SAID IT</td>\n",
       "      <td>-</td>\n",
       "      <td>Of his 1972 trip to this country, Nixon echoed...</td>\n",
       "      <td>China</td>\n",
       "      <td>2019-06-03</td>\n",
       "      <td>-</td>\n",
       "    </tr>\n",
       "    <tr>\n",
       "      <th>348031</th>\n",
       "      <td>1</td>\n",
       "      <td>200</td>\n",
       "      <td>no</td>\n",
       "      <td>WHERE IS THAT MOUNT?</td>\n",
       "      <td>(Alex: All you have to do is identify the coun...</td>\n",
       "      <td>Fuji</td>\n",
       "      <td>Japan</td>\n",
       "      <td>2019-06-17</td>\n",
       "      <td>2019 Teen Tournament quarterfinal game 1.</td>\n",
       "    </tr>\n",
       "    <tr>\n",
       "      <th>348459</th>\n",
       "      <td>1</td>\n",
       "      <td>800</td>\n",
       "      <td>no</td>\n",
       "      <td>MASKS</td>\n",
       "      <td>-</td>\n",
       "      <td>\\\"The Man in the Iron Mask\" was a mysterious u...</td>\n",
       "      <td>France</td>\n",
       "      <td>2019-06-27</td>\n",
       "      <td>2019 Teen Tournament final game 1.</td>\n",
       "    </tr>\n",
       "    <tr>\n",
       "      <th>349153</th>\n",
       "      <td>2</td>\n",
       "      <td>400</td>\n",
       "      <td>no</td>\n",
       "      <td>ENCLAVES</td>\n",
       "      <td>-</td>\n",
       "      <td>About 1 mile of this country's Pyrenees territ...</td>\n",
       "      <td>France</td>\n",
       "      <td>2019-07-15</td>\n",
       "      <td>-</td>\n",
       "    </tr>\n",
       "    <tr>\n",
       "      <th>349527</th>\n",
       "      <td>2</td>\n",
       "      <td>1600</td>\n",
       "      <td>no</td>\n",
       "      <td>HISTORY BOOKS</td>\n",
       "      <td>-</td>\n",
       "      <td>\\\"Imperial Twilight\" by Stephen Platt takes a ...</td>\n",
       "      <td>China</td>\n",
       "      <td>2019-07-24</td>\n",
       "      <td>-</td>\n",
       "    </tr>\n",
       "  </tbody>\n",
       "</table>\n",
       "<p>1573 rows × 9 columns</p>\n",
       "</div>"
      ],
      "text/plain": [
       "        round  value daily_double              category  \\\n",
       "149         1    400           no             GEOGRAPHY   \n",
       "489         2    400           no            INVENTIONS   \n",
       "645         2    200           no           WORLD WAR I   \n",
       "937         3      0           no   BUSINESS & INDUSTRY   \n",
       "1823        1    100           no              THE '50s   \n",
       "...       ...    ...          ...                   ...   \n",
       "347490      1    400           no         NIXON SAID IT   \n",
       "348031      1    200           no  WHERE IS THAT MOUNT?   \n",
       "348459      1    800           no                 MASKS   \n",
       "349153      2    400           no              ENCLAVES   \n",
       "349527      2   1600           no         HISTORY BOOKS   \n",
       "\n",
       "                                                 comments  \\\n",
       "149                                                     -   \n",
       "489                                                     -   \n",
       "645                                                     -   \n",
       "937                                                     -   \n",
       "1823                                                    -   \n",
       "...                                                   ...   \n",
       "347490                                                  -   \n",
       "348031  (Alex: All you have to do is identify the coun...   \n",
       "348459                                                  -   \n",
       "349153                                                  -   \n",
       "349527                                                  -   \n",
       "\n",
       "                                                   answer question  \\\n",
       "149                    Largest country entirely in Europe   France   \n",
       "489     Country credited with invention of pasta, porc...    China   \n",
       "645     \\\"Lafayette, we are here\", referred to America...   France   \n",
       "937      Country that manufactures the most cars per year    Japan   \n",
       "1823    \\\"Rashomon,\" Best Foreign Film of '51, was fro...    Japan   \n",
       "...                                                   ...      ...   \n",
       "347490  Of his 1972 trip to this country, Nixon echoed...    China   \n",
       "348031                                               Fuji    Japan   \n",
       "348459  \\\"The Man in the Iron Mask\" was a mysterious u...   France   \n",
       "349153  About 1 mile of this country's Pyrenees territ...   France   \n",
       "349527  \\\"Imperial Twilight\" by Stephen Platt takes a ...    China   \n",
       "\n",
       "          air_date                                      notes  \n",
       "149     1984-09-13                                          -  \n",
       "489     1984-09-26                                          -  \n",
       "645     1984-10-01                                          -  \n",
       "937     1984-11-26                                          -  \n",
       "1823    1985-03-20                                          -  \n",
       "...            ...                                        ...  \n",
       "347490  2019-06-03                                          -  \n",
       "348031  2019-06-17  2019 Teen Tournament quarterfinal game 1.  \n",
       "348459  2019-06-27         2019 Teen Tournament final game 1.  \n",
       "349153  2019-07-15                                          -  \n",
       "349527  2019-07-24                                          -  \n",
       "\n",
       "[1573 rows x 9 columns]"
      ]
     },
     "execution_count": 4,
     "metadata": {},
     "output_type": "execute_result"
    }
   ],
   "source": [
    "question_data = clean_data.loc[(clean_data[\"question\"] == \"Australia\") | (clean_data[\"question\"] == \"China\") | (clean_data[\"question\"] == \"France\") | (clean_data[\"question\"] == \"Japan\")| (clean_data[\"question\"] == \"Chicago\")]\n",
    "question_data"
   ]
  },
  {
   "cell_type": "code",
   "execution_count": 5,
   "metadata": {
    "scrolled": true
   },
   "outputs": [
    {
     "data": {
      "text/plain": [
       "Australia    327\n",
       "China        322\n",
       "France       310\n",
       "Japan        308\n",
       "Chicago      306\n",
       "Name: question, dtype: int64"
      ]
     },
     "execution_count": 5,
     "metadata": {},
     "output_type": "execute_result"
    }
   ],
   "source": [
    "clean_data ['question'].value_counts().head(5)"
   ]
  },
  {
   "cell_type": "markdown",
   "metadata": {},
   "source": [
    "Asked the first question: What are the top 5 questions on Jeopardy?"
   ]
  },
  {
   "cell_type": "code",
   "execution_count": 6,
   "metadata": {
    "scrolled": true
   },
   "outputs": [
    {
     "data": {
      "image/png": "[encoded data removed]",
      "text/plain": [
       "<Figure size 432x288 with 1 Axes>"
      ]
     },
     "metadata": {
      "needs_background": "light"
     },
     "output_type": "display_data"
    }
   ],
   "source": [
    "top_question = pd.DataFrame(question_data.groupby(['question'])[\"value\"].count())\n",
    "top_question\n",
    "top_question.plot(kind=\"bar\", title=\"Total Value of Top 5 Questions\", rot=45, legend=None, color=\"green\")\n",
    "plt.savefig('Top_Question_output.png', dpi=100, bbox_inches='tight')"
   ]
  },
  {
   "cell_type": "markdown",
   "metadata": {},
   "source": [
    "Just pulled this data to help understand the distribution, \n",
    "since my first question has to do with distribution of the \n",
    "values for the top 5  questions"
   ]
  },
  {
   "cell_type": "code",
   "execution_count": 7,
   "metadata": {
    "scrolled": true
   },
   "outputs": [
    {
     "data": {
      "text/plain": [
       "count     1573.000000\n",
       "mean       597.396694\n",
       "std        674.948572\n",
       "min          0.000000\n",
       "25%        200.000000\n",
       "50%        400.000000\n",
       "75%        800.000000\n",
       "max      11200.000000\n",
       "Name: value, dtype: float64"
      ]
     },
     "execution_count": 7,
     "metadata": {},
     "output_type": "execute_result"
    }
   ],
   "source": [
    "question_data[\"value\"].describe()"
   ]
  },
  {
   "cell_type": "markdown",
   "metadata": {},
   "source": [
    "My First questions: How are the top question's values distributed overall and at what frequency.\n",
    "To help see the distribution of values, I am pulling a line graph and a histogram. \n",
    "Knowing that the Min value is 0, mean is about 760 and the 75th percentile is 1000 pts, and that the mix value is 11200.\n",
    "I should see the line and histogram scewing to the right with a long tail to the right because of the max values\n",
    "Skewed-right data sets have a few large values that drive the mean upward but do not affect where the exact middle of the data is (that is, the median)"
   ]
  },
  {
   "cell_type": "code",
   "execution_count": 8,
   "metadata": {
    "scrolled": true
   },
   "outputs": [
    {
     "data": {
      "image/png": "[encoded data removed]",
      "text/plain": [
       "<Figure size 1080x360 with 2 Axes>"
      ]
     },
     "metadata": {
      "needs_background": "light"
     },
     "output_type": "display_data"
    }
   ],
   "source": [
    "fig, axes=plt.subplots(1,2,figsize=(15,5))\n",
    "ax1=axes[0]\n",
    "ax2=axes[1]\n",
    "kdeplot=question_data[\"value\"].plot.kde(ax=ax1,xlim=(0,question_data[\"value\"].max()),alpha=0.6,color='red');\n",
    "histplot=question_data[\"value\"].plot.hist(ax=ax2,xlim=(0,question_data[\"value\"].max()),alpha=0.6,bins=200,color='red');\n",
    "ax1.set_xlabel(\"Value\");\n",
    "ax2.set_xlabel(\"Value\");\n",
    "\n",
    "kdeplot.set_xlim(50,3500)\n",
    "kdeplot.set_xlabel(\"Points Possible\",labelpad=9)\n",
    "\n",
    "histplot.set_xlim(left=50,right=3500)\n",
    "histplot.set_xlabel(\"Points Possible\",labelpad=8)\n",
    "ax1.grid(False)\n",
    "ax2.grid(False)\n",
    "\n",
    "fig.savefig('JLS_Density_Frequency_output.png')"
   ]
  },
  {
   "cell_type": "markdown",
   "metadata": {},
   "source": [
    "My second question: Looking at the top 5 values, what questions have the highest \n",
    "value. Finding the mean, median, total value for the top 5 questions helps to \n",
    "understand this. If you want to win jeopardy, it might be helpful to know\n",
    "where to spend the most time studying. Although I am only looking at the top 5,\n",
    "you can adjust the data a bit and go further to help you know what to study for. \n",
    "First I get the total value. This indicates that Australia as a question that is the most frequent, \n",
    "is also worth the most value overall."
   ]
  },
  {
   "cell_type": "code",
   "execution_count": 9,
   "metadata": {
    "scrolled": false
   },
   "outputs": [
    {
     "data": {
      "image/png": "[encoded data removed]",
      "text/plain": [
       "<Figure size 432x288 with 1 Axes>"
      ]
     },
     "metadata": {
      "needs_background": "light"
     },
     "output_type": "display_data"
    }
   ],
   "source": [
    "total_value = pd.DataFrame(question_data.groupby(['question'])[\"value\"].sum())\n",
    "total_value = total_value.rename(columns={\"value\":\"Total Value\"})\n",
    "total_value\n",
    "total_value.plot(kind=\"bar\", title=\"Total Value of Top 5 Questions\", rot=45, legend=None, color=\"green\")\n",
    "plt.savefig('Total_Values_output.png', dpi=100, bbox_inches='tight')"
   ]
  },
  {
   "cell_type": "markdown",
   "metadata": {},
   "source": [
    "Calculation of mean\n",
    "You can see that Australia continues to be the most valuable, however the \n",
    "mean of Chicago and France seem to suggest that they average out to be similar value."
   ]
  },
  {
   "cell_type": "code",
   "execution_count": 10,
   "metadata": {
    "scrolled": true
   },
   "outputs": [
    {
     "data": {
      "image/png": "[encoded data removed]",
      "text/plain": [
       "<Figure size 432x288 with 1 Axes>"
      ]
     },
     "metadata": {
      "needs_background": "light"
     },
     "output_type": "display_data"
    }
   ],
   "source": [
    "mean_value = pd.DataFrame(question_data.groupby(['question'])[\"value\"].mean())\n",
    "mean_value = mean_value.rename(columns={\"value\":\"Mean Value\"})\n",
    "mean_value\n",
    "mean_value.plot(kind=\"bar\", title=\"Mean Value of Top 5 Questions\", rot=45, color=\"blue\", legend=None)\n",
    "plt.savefig('Mean_Values_output.png', dpi=100, bbox_inches='tight')"
   ]
  },
  {
   "cell_type": "markdown",
   "metadata": {},
   "source": [
    "Calculation of median\n",
    "This again shows the value of the top 5 are trending to be similar value overall. \n",
    "If we were to expand our data to include the top 100 questions, this would help someone really understand where to consentate their study time. "
   ]
  },
  {
   "cell_type": "code",
   "execution_count": 11,
   "metadata": {
    "scrolled": true
   },
   "outputs": [
    {
     "data": {
      "image/png": "[encoded data removed]",
      "text/plain": [
       "<Figure size 432x288 with 1 Axes>"
      ]
     },
     "metadata": {
      "needs_background": "light"
     },
     "output_type": "display_data"
    }
   ],
   "source": [
    "median_value = pd.DataFrame(question_data.groupby(['question'])[\"value\"].median())\n",
    "median_value = median_value .rename(columns={\"value\":\"Median Value\"})\n",
    "median_value \n",
    "mean_value.plot(kind=\"bar\", title=\"Median Value of Top 5 Questions\", color=\"purple\", rot=45, legend=None)\n",
    "plt.savefig('Median_Values_output.png', dpi=100, bbox_inches='tight')"
   ]
  },
  {
   "cell_type": "markdown",
   "metadata": {},
   "source": [
    "Overall Observations: \n",
    "With the amount of data we had access to, it was somewhat difficult to determine the best way to get the data. It took a bit of work limiting or cleaning up the data. \n",
    "I would have like to be able to create a game of Jeopardy that is playable. I think this would have been possible given more time. \n",
    "Looking at value of questions and categories would help someone interesting in breaking down the best areas to study. "
   ]
  }
 ],
 "metadata": {
  "kernelspec": {
   "display_name": "Python 3",
   "language": "python",
   "name": "python3"
  },
  "language_info": {
   "codemirror_mode": {
    "name": "ipython",
    "version": 3
   },
   "file_extension": ".py",
   "mimetype": "text/x-python",
   "name": "python",
   "nbconvert_exporter": "python",
   "pygments_lexer": "ipython3",
   "version": "3.6.10"
  }
 },
 "nbformat": 4,
 "nbformat_minor": 4
}
